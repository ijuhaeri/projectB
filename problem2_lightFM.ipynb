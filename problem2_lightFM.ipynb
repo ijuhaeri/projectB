{
 "cells": [
  {
   "cell_type": "code",
   "execution_count": 7,
   "id": "3fc86a46",
   "metadata": {},
   "outputs": [],
   "source": [
    "import os\n",
    "import numpy as np\n",
    "import pandas as pd\n",
    "import AbstractBaseCollabFilterSGD\n",
    "from CollabFilterOneVectorPerItem import CollabFilterOneVectorPerItem\n",
    "from train_valid_test_loader import load_train_valid_test_datasets\n",
    "from sklearn.model_selection import train_test_split\n",
    "\n",
    "from lightfm import LightFM\n",
    "from lightfm.data import Dataset as LFDataset\n",
    "from lightfm.evaluation import precision_at_k, auc_score"
   ]
  },
  {
   "cell_type": "code",
   "execution_count": 2,
   "id": "29712ad1",
   "metadata": {},
   "outputs": [],
   "source": [
    "import matplotlib\n",
    "import matplotlib.pyplot as plt\n",
    "\n",
    "plt.style.use('seaborn-v0_8') # pretty matplotlib plots\n",
    "\n",
    "import seaborn as sns\n",
    "sns.set('notebook', font_scale=1.0, style='whitegrid')"
   ]
  },
  {
   "cell_type": "code",
   "execution_count": 3,
   "id": "9831da13",
   "metadata": {},
   "outputs": [],
   "source": [
    "train_data_tuple, valid_data_tuple, test_data_tuple, total_n_users, total_n_items = load_train_valid_test_datasets()\n",
    "\n",
    "data_path = 'data_movie_lens_100k/'\n",
    "\n",
    "ratings_df = pd.read_csv(os.path.join(data_path, 'ratings_all_development_set.csv'))\n",
    "users_df = pd.read_csv(os.path.join(data_path, 'user_info.csv'))\n",
    "movies_df = pd.read_csv(os.path.join(data_path, 'movie_info.csv'))\n",
    "masked_test_df = pd.read_csv(os.path.join(data_path, 'ratings_masked_leaderboard_set.csv'))\n",
    "\n",
    "train_df, val_df = train_test_split(ratings_df, test_size=0.2, random_state=42)"
   ]
  },
  {
   "cell_type": "code",
   "execution_count": 5,
   "id": "3f7f8883",
   "metadata": {},
   "outputs": [],
   "source": [
    "lf_data = LFDataset()\n",
    "lf_data.fit(users_df['user_id'], movies_df['item_id'])\n",
    "\n",
    "# Add features\n",
    "user_features = list(zip(users_df['user_id'], users_df[['age', 'is_male']].astype(str).values.tolist()))\n",
    "movie_features = list(zip(movies_df['item_id'], movies_df['release_year'].astype(str)))\n",
    "\n",
    "lf_data.fit_partial(users=[u[0] for u in user_features],\n",
    "                    items=[m[0] for m in movie_features],\n",
    "                    user_features=[f for _, feats in user_features for f in feats],\n",
    "                    item_features=[f for _, feats in movie_features for f in feats])\n",
    "\n",
    "# Build interactions\n",
    "(interactions, weights) = lf_data.build_interactions([(u, i, r) for u, i, r in train_df.values])\n",
    "\n",
    "user_feat = lf_data.build_user_features(user_features)\n",
    "item_feat = lf_data.build_item_features(movie_features)"
   ]
  },
  {
   "cell_type": "code",
   "execution_count": 6,
   "id": "0df50300",
   "metadata": {},
   "outputs": [
    {
     "data": {
      "text/plain": [
       "<lightfm.lightfm.LightFM at 0x16cfeca10>"
      ]
     },
     "execution_count": 6,
     "metadata": {},
     "output_type": "execute_result"
    }
   ],
   "source": [
    "model = LightFM(loss='warp')  # or 'bpr', 'logistic', or 'mae'\n",
    "model.fit(interactions, \n",
    "          user_features=user_feat, \n",
    "          item_features=item_feat, \n",
    "          epochs=30, \n",
    "          num_threads=4)"
   ]
  },
  {
   "cell_type": "code",
   "execution_count": 17,
   "id": "08fbdc75",
   "metadata": {},
   "outputs": [],
   "source": [
    "precision = precision_at_k(model, interactions, user_features=user_feat, item_features=item_feat, k=5).mean()\n",
    "auc = auc_score(model, interactions, user_features=user_feat, item_features=item_feat).mean()\n",
    "\n",
    "masked_user_ids = masked_test_df['user_id'].values\n",
    "masked_item_ids = masked_test_df['item_id'].values\n",
    "\n",
    "lightfm_preds = model.predict(\n",
    "    masked_user_ids,\n",
    "    masked_item_ids,\n",
    "    user_features=user_feat,\n",
    "    item_features=item_feat\n",
    ")\n",
    "\n",
    "lightfm_preds = np.clip(lightfm_preds, 1.0, 5.0)\n",
    "np.savetxt(\"predicted_ratings_leaderboard.txt\", lightfm_preds, fmt=\"%.2f\")\n"
   ]
  }
 ],
 "metadata": {
  "kernelspec": {
   "display_name": "cs135_25s_env",
   "language": "python",
   "name": "python3"
  },
  "language_info": {
   "codemirror_mode": {
    "name": "ipython",
    "version": 3
   },
   "file_extension": ".py",
   "mimetype": "text/x-python",
   "name": "python",
   "nbconvert_exporter": "python",
   "pygments_lexer": "ipython3",
   "version": "3.11.11"
  }
 },
 "nbformat": 4,
 "nbformat_minor": 5
}
