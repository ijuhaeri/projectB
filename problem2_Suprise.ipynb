{
 "cells": [
  {
   "cell_type": "code",
   "execution_count": 17,
   "id": "dbcade66",
   "metadata": {},
   "outputs": [],
   "source": [
    "import os\n",
    "import numpy as np\n",
    "import pandas as pd\n",
    "import AbstractBaseCollabFilterSGD\n",
    "from CollabFilterOneVectorPerItem import CollabFilterOneVectorPerItem\n",
    "from train_valid_test_loader import load_train_valid_test_datasets\n",
    "from sklearn.model_selection import train_test_split\n",
    "\n",
    "from surprise import Dataset, Reader\n",
    "from surprise.model_selection import GridSearchCV\n",
    "from surprise import SVD"
   ]
  },
  {
   "cell_type": "code",
   "execution_count": 18,
   "id": "47f23706",
   "metadata": {},
   "outputs": [],
   "source": [
    "import matplotlib\n",
    "import matplotlib.pyplot as plt\n",
    "\n",
    "plt.style.use('seaborn-v0_8') # pretty matplotlib plots\n",
    "\n",
    "import seaborn as sns\n",
    "sns.set('notebook', font_scale=1.0, style='whitegrid')"
   ]
  },
  {
   "cell_type": "code",
   "execution_count": 19,
   "id": "85ff90fe",
   "metadata": {},
   "outputs": [],
   "source": [
    "train_data_tuple, valid_data_tuple, test_data_tuple, total_n_users, total_n_items = load_train_valid_test_datasets()\n",
    "\n",
    "data_path = 'data_movie_lens_100k/'\n",
    "\n",
    "ratings_df = pd.read_csv(os.path.join(data_path, 'ratings_all_development_set.csv'))\n",
    "users_df = pd.read_csv(os.path.join(data_path, 'user_info.csv'))\n",
    "movies_df = pd.read_csv(os.path.join(data_path, 'movie_info.csv'))\n",
    "masked_test_df = pd.read_csv(os.path.join(data_path, 'ratings_masked_leaderboard_set.csv'))\n",
    "\n",
    "train_df, val_df = train_test_split(ratings_df, test_size=0.2, random_state=42)"
   ]
  },
  {
   "cell_type": "code",
   "execution_count": 20,
   "id": "72313b0d",
   "metadata": {},
   "outputs": [],
   "source": [
    "reader = Reader(rating_scale=(1, 5))\n",
    "data = Dataset.load_from_df(train_df[['user_id', 'item_id', 'rating']], reader)"
   ]
  },
  {
   "cell_type": "code",
   "execution_count": 21,
   "id": "44461d01",
   "metadata": {},
   "outputs": [
    {
     "name": "stderr",
     "output_type": "stream",
     "text": [
      "[Parallel(n_jobs=-1)]: Using backend LokyBackend with 8 concurrent workers.\n",
      "python(14757) MallocStackLogging: can't turn off malloc stack logging because it was not enabled.\n",
      "python(14758) MallocStackLogging: can't turn off malloc stack logging because it was not enabled.\n",
      "python(14759) MallocStackLogging: can't turn off malloc stack logging because it was not enabled.\n",
      "python(14760) MallocStackLogging: can't turn off malloc stack logging because it was not enabled.\n",
      "python(14761) MallocStackLogging: can't turn off malloc stack logging because it was not enabled.\n",
      "python(14762) MallocStackLogging: can't turn off malloc stack logging because it was not enabled.\n",
      "python(14763) MallocStackLogging: can't turn off malloc stack logging because it was not enabled.\n",
      "python(14764) MallocStackLogging: can't turn off malloc stack logging because it was not enabled.\n",
      "[Parallel(n_jobs=-1)]: Done  25 tasks      | elapsed:    4.4s\n",
      "[Parallel(n_jobs=-1)]: Done 146 tasks      | elapsed:   20.1s\n"
     ]
    },
    {
     "name": "stdout",
     "output_type": "stream",
     "text": [
      "Best MAE score:  0.7402192186186831\n",
      "Best parameters:  {'n_factors': 200, 'lr_all': 0.01, 'reg_all': 0.1}\n"
     ]
    },
    {
     "name": "stderr",
     "output_type": "stream",
     "text": [
      "[Parallel(n_jobs=-1)]: Done 360 out of 360 | elapsed:  2.0min finished\n"
     ]
    }
   ],
   "source": [
    "param_grid = {\n",
    "    'n_factors': [2, 20, 50, 100, 200, 1000],\n",
    "    'lr_all': [0.005, 0.01, 0.1],\n",
    "    'reg_all': [0.02, 0.05, 0.1, 1]\n",
    "}\n",
    "\n",
    "gs = GridSearchCV(SVD, param_grid, measures=['mae'], cv=5, n_jobs=-1, joblib_verbose=2)\n",
    "gs.fit(data)\n",
    "best_model = gs.best_estimator['mae']\n",
    "\n",
    "print(\"Best MAE score: \", gs.best_score['mae'])\n",
    "print(\"Best parameters: \", gs.best_params['mae'])"
   ]
  },
  {
   "cell_type": "code",
   "execution_count": 22,
   "id": "43bb6beb",
   "metadata": {},
   "outputs": [
    {
     "data": {
      "text/plain": [
       "<surprise.prediction_algorithms.matrix_factorization.SVD at 0x17b6f5910>"
      ]
     },
     "execution_count": 22,
     "metadata": {},
     "output_type": "execute_result"
    }
   ],
   "source": [
    "trainset = data.build_full_trainset()\n",
    "best_model.fit(trainset)"
   ]
  },
  {
   "cell_type": "code",
   "execution_count": 24,
   "id": "ab40b665",
   "metadata": {},
   "outputs": [],
   "source": [
    "# Should submit final predictions as: predicted_ratings_leaderboard.txt\n",
    "\n",
    "predicted_ratings_leaderboard = []\n",
    "for user_id, item_id in zip(masked_test_df['user_id'], masked_test_df['item_id']):\n",
    "    pred = best_model.predict(user_id, item_id)\n",
    "    predicted_ratings_leaderboard.append(pred.est)\n",
    "\n",
    "# Make sure its in range, should we maybe round these values tho?\n",
    "predicted_ratings_leaderboard = predictions = np.clip(predicted_ratings_leaderboard, 1.0, 5.0)\n",
    "\n",
    "np.savetxt('predicted_ratings_leaderboard.txt', predicted_ratings_leaderboard)"
   ]
  }
 ],
 "metadata": {
  "kernelspec": {
   "display_name": "cs135_25s_env",
   "language": "python",
   "name": "python3"
  },
  "language_info": {
   "codemirror_mode": {
    "name": "ipython",
    "version": 3
   },
   "file_extension": ".py",
   "mimetype": "text/x-python",
   "name": "python",
   "nbconvert_exporter": "python",
   "pygments_lexer": "ipython3",
   "version": "3.11.11"
  }
 },
 "nbformat": 4,
 "nbformat_minor": 5
}
